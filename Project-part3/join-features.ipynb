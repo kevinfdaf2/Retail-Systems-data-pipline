{
 "cells": [
  {
   "cell_type": "markdown",
   "metadata": {},
   "source": [
    "# Method 1"
   ]
  },
  {
   "cell_type": "code",
   "execution_count": 66,
   "metadata": {},
   "outputs": [
    {
     "data": {
      "application/vnd.jupyter.widget-view+json": {
       "model_id": "549bbeb5d7ac4762a2453011637594ba",
       "version_major": 2,
       "version_minor": 0
      },
      "text/plain": [
       "FloatProgress(value=0.0, bar_style='info', description='Progress:', layout=Layout(height='25px', width='50%'),…"
      ]
     },
     "metadata": {},
     "output_type": "display_data"
    },
    {
     "name": "stdout",
     "output_type": "stream",
     "text": [
      "+----------+------------------+-----------------+-----------+------------------+\n",
      "|product_id|prod_second_orders|prod_first_orders|prod_orders|reordered_reorders|\n",
      "+----------+------------------+-----------------+-----------+------------------+\n",
      "|     39928|              7798|            14376|      50141|             35765|\n",
      "|      4421|              2366|             5529|      12230|              6701|\n",
      "|     28769|               590|             1687|       3224|              1537|\n",
      "|     12879|               237|              495|       1293|               798|\n",
      "|     33700|                59|              360|        456|                96|\n",
      "|     48015|               432|              837|       2665|              1828|\n",
      "|     47144|              5343|             9893|      34583|             24690|\n",
      "|     21299|                19|               75|        121|                46|\n",
      "|     14148|                37|              346|        402|                56|\n",
      "|     35851|               594|             1300|       3665|              2365|\n",
      "+----------+------------------+-----------------+-----------+------------------+\n",
      "only showing top 10 rows\n",
      "\n",
      "root\n",
      " |-- product_id: long (nullable = true)\n",
      " |-- prod_second_orders: integer (nullable = true)\n",
      " |-- prod_first_orders: integer (nullable = true)\n",
      " |-- prod_orders: integer (nullable = true)\n",
      " |-- reordered_reorders: integer (nullable = true)\n",
      "\n",
      "Count:  49677"
     ]
    }
   ],
   "source": [
    "# Create data frames from the source tables \n",
    "prd_feature = spark.read.parquet(\"s3://imba-kevin0019/features/prd_feature_db/\")\n",
    "prd_feature.show(10)\n",
    "prd_feature.printSchema()\n",
    "print(\"Count: \", prd_feature.count())"
   ]
  },
  {
   "cell_type": "code",
   "execution_count": 67,
   "metadata": {},
   "outputs": [
    {
     "data": {
      "application/vnd.jupyter.widget-view+json": {
       "model_id": "16bab66cffd245b3a17a201f555c3879",
       "version_major": 2,
       "version_minor": 0
      },
      "text/plain": [
       "FloatProgress(value=0.0, bar_style='info', description='Progress:', layout=Layout(height='25px', width='50%'),…"
      ]
     },
     "metadata": {},
     "output_type": "display_data"
    },
    {
     "name": "stdout",
     "output_type": "stream",
     "text": [
      "+-------+----------+----------------+----------------+--------------+----------------------+\n",
      "|user_id|product_id|order_number_max|order_number_min|number_ordered|add_to_cart_order_mean|\n",
      "+-------+----------+----------------+----------------+--------------+----------------------+\n",
      "|  13183|     21903|              63|               2|            26|    6.3076923076923075|\n",
      "|  13183|      6740|              32|               9|             3|     4.333333333333333|\n",
      "|  13185|     41716|              15|              15|             1|                   9.0|\n",
      "|  13189|     13575|              30|               3|            14|    2.7857142857142856|\n",
      "|  13191|     33731|              28|              17|             2|                  15.0|\n",
      "|  13204|     44910|              15|               1|            14|     6.785714285714286|\n",
      "|  13204|      8424|              30|               1|            17|     5.823529411764706|\n",
      "|  13218|     15251|              27|               4|            19|    14.368421052631579|\n",
      "|  13231|      3020|               9|               1|             5|                   4.0|\n",
      "|  13232|     21903|               3|               1|             3|                   8.0|\n",
      "+-------+----------+----------------+----------------+--------------+----------------------+\n",
      "only showing top 10 rows\n",
      "\n",
      "root\n",
      " |-- user_id: long (nullable = true)\n",
      " |-- product_id: long (nullable = true)\n",
      " |-- order_number_max: long (nullable = true)\n",
      " |-- order_number_min: long (nullable = true)\n",
      " |-- number_ordered: long (nullable = true)\n",
      " |-- add_to_cart_order_mean: double (nullable = true)\n",
      "\n",
      "Count:  13307953"
     ]
    }
   ],
   "source": [
    "up_features = spark.read.parquet(\"s3://imba-kevin0019/features/up_feature_db\")\n",
    "up_features.show(10)\n",
    "up_features.printSchema()\n",
    "print(\"Count: \", up_features.count())"
   ]
  },
  {
   "cell_type": "code",
   "execution_count": 68,
   "metadata": {},
   "outputs": [
    {
     "data": {
      "application/vnd.jupyter.widget-view+json": {
       "model_id": "37332e1e25ed425fa67d5bd1dc75049b",
       "version_major": 2,
       "version_minor": 0
      },
      "text/plain": [
       "FloatProgress(value=0.0, bar_style='info', description='Progress:', layout=Layout(height='25px', width='50%'),…"
      ]
     },
     "metadata": {},
     "output_type": "display_data"
    },
    {
     "name": "stdout",
     "output_type": "stream",
     "text": [
      "+-------+----------------+---------------------------+--------------------------+\n",
      "|user_id|max_order_number|days_since_prior_order_mean|days_since_prior_order_sum|\n",
      "+-------+----------------+---------------------------+--------------------------+\n",
      "|     12|               6|                       26.0|                       130|\n",
      "|     46|              20|          17.36842105263158|                       330|\n",
      "|     67|              25|          7.458333333333333|                       179|\n",
      "|    161|              21|                      16.65|                       333|\n",
      "|    186|               8|         12.714285714285714|                        89|\n",
      "|    275|              15|         11.071428571428571|                       155|\n",
      "|    282|               4|                       18.0|                        54|\n",
      "|    323|              72|         2.4507042253521125|                       174|\n",
      "|    336|              12|          4.363636363636363|                        48|\n",
      "|    350|              15|                        8.0|                       112|\n",
      "+-------+----------------+---------------------------+--------------------------+\n",
      "only showing top 10 rows\n",
      "\n",
      "root\n",
      " |-- user_id: integer (nullable = true)\n",
      " |-- max_order_number: integer (nullable = true)\n",
      " |-- days_since_prior_order_mean: double (nullable = true)\n",
      " |-- days_since_prior_order_sum: integer (nullable = true)\n",
      "\n",
      "Count:  206209"
     ]
    }
   ],
   "source": [
    "user_features_1 = spark.read.parquet(\"s3://imba-kevin0019/features/user_feature_1_db\")\n",
    "user_features_1.show(10)\n",
    "user_features_1.printSchema()\n",
    "print(\"Count: \", user_features_1.count())"
   ]
  },
  {
   "cell_type": "code",
   "execution_count": 69,
   "metadata": {},
   "outputs": [
    {
     "data": {
      "application/vnd.jupyter.widget-view+json": {
       "model_id": "409bf45dc7e04440b07cbb98a4ae226d",
       "version_major": 2,
       "version_minor": 0
      },
      "text/plain": [
       "FloatProgress(value=0.0, bar_style='info', description='Progress:', layout=Layout(height='25px', width='50%'),…"
      ]
     },
     "metadata": {},
     "output_type": "display_data"
    },
    {
     "name": "stdout",
     "output_type": "stream",
     "text": [
      "+-------+----------------+-------------------------+------------------+\n",
      "|user_id|product_id_count|product_id_count_distinct|user_reorder_ratio|\n",
      "+-------+----------------+-------------------------+------------------+\n",
      "|  67331|             102|                       68|0.5396825396825397|\n",
      "|  67353|              39|                       16|0.7931034482758621|\n",
      "|  67465|             450|                      119| 1.402542372881356|\n",
      "|  68973|             394|                      227|0.6028880866425993|\n",
      "|  69180|             201|                       97|0.7222222222222222|\n",
      "|  69403|              34|                       20|              0.56|\n",
      "|  64856|             419|                      170|1.3681318681318682|\n",
      "|  65438|             432|                      120|1.3109243697478992|\n",
      "|  65853|             385|                      132|1.1933962264150944|\n",
      "|  66171|             551|                      248|1.8819875776397517|\n",
      "+-------+----------------+-------------------------+------------------+\n",
      "only showing top 10 rows\n",
      "\n",
      "root\n",
      " |-- user_id: long (nullable = true)\n",
      " |-- product_id_count: integer (nullable = true)\n",
      " |-- product_id_count_distinct: integer (nullable = true)\n",
      " |-- user_reorder_ratio: double (nullable = true)\n",
      "\n",
      "Count:  206209"
     ]
    }
   ],
   "source": [
    "user_features_2 = spark.read.parquet(\"s3://imba-kevin0019/features/user_feature_2_db\")\n",
    "user_features_2.show(10)\n",
    "user_features_2.printSchema()\n",
    "print(\"Count: \", user_features_2.count())"
   ]
  },
  {
   "cell_type": "code",
   "execution_count": 70,
   "metadata": {},
   "outputs": [
    {
     "data": {
      "application/vnd.jupyter.widget-view+json": {
       "model_id": "23f2707a6ad74138acf3bb9ed946ef7c",
       "version_major": 2,
       "version_minor": 0
      },
      "text/plain": [
       "FloatProgress(value=0.0, bar_style='info', description='Progress:', layout=Layout(height='25px', width='50%'),…"
      ]
     },
     "metadata": {},
     "output_type": "display_data"
    },
    {
     "name": "stdout",
     "output_type": "stream",
     "text": [
      "+-------+----------+----------------+----------------+--------------+----------------------+------------------+-----------------+-----------+------------------+----------------+---------------------------+--------------------------+----------------+-------------------------+------------------+\n",
      "|user_id|product_id|order_number_max|order_number_min|number_ordered|add_to_cart_order_mean|prod_second_orders|prod_first_orders|prod_orders|reordered_reorders|max_order_number|days_since_prior_order_mean|days_since_prior_order_sum|product_id_count|product_id_count_distinct|user_reorder_ratio|\n",
      "+-------+----------+----------------+----------------+--------------+----------------------+------------------+-----------------+-----------+------------------+----------------+---------------------------+--------------------------+----------------+-------------------------+------------------+\n",
      "|  13183|     21903|              63|               2|            26|    6.3076923076923075|             36557|            55037|     241921|            186884|              64|          4.380952380952381|                       276|             680|                      222|1.8247011952191234|\n",
      "|  13183|      6740|              32|               9|             3|     4.333333333333333|              1772|             4288|       9720|              5432|              64|          4.380952380952381|                       276|             680|                      222|1.8247011952191234|\n",
      "|  13185|     41716|              15|              15|             1|                   9.0|               264|              576|       1798|              1222|              21|                      13.65|                       273|             192|                      104|0.5569620253164557|\n",
      "|  13189|     13575|              30|               3|            14|    2.7857142857142856|              1622|             2780|      12575|              9795|              43|           8.69047619047619|                       365|             209|                       39|1.6504854368932038|\n",
      "|  13191|     33731|              28|              17|             2|                  15.0|              8226|            17603|      45238|             27635|              29|         11.785714285714286|                       330|             436|                      170|0.8417721518987342|\n",
      "|  13204|     44910|              15|               1|            14|     6.785714285714286|              3887|             8534|      21416|             12882|              31|          8.733333333333333|                       262|             289|                       24|1.4887640449438202|\n",
      "|  13204|      8424|              30|               1|            17|     5.823529411764706|              7296|            14504|      42044|             27540|              31|          8.733333333333333|                       262|             289|                       24|1.4887640449438202|\n",
      "|  13218|     15251|              27|               4|            19|    14.368421052631579|                81|              190|        551|               361|              31|         11.833333333333334|                       355|             849|                      208|1.2232824427480915|\n",
      "|  13231|      3020|               9|               1|             5|                   4.0|              1186|             2484|       6837|              4353|              12|         12.636363636363637|                       139|              75|                       28|              0.94|\n",
      "|  13232|     21903|               3|               1|             3|                   8.0|             36557|            55037|     241921|            186884|               4|         22.333333333333332|                        67|              28|                       23|0.2631578947368421|\n",
      "+-------+----------+----------------+----------------+--------------+----------------------+------------------+-----------------+-----------+------------------+----------------+---------------------------+--------------------------+----------------+-------------------------+------------------+\n",
      "only showing top 10 rows\n",
      "\n",
      "root\n",
      " |-- user_id: long (nullable = true)\n",
      " |-- product_id: long (nullable = true)\n",
      " |-- order_number_max: long (nullable = true)\n",
      " |-- order_number_min: long (nullable = true)\n",
      " |-- number_ordered: long (nullable = true)\n",
      " |-- add_to_cart_order_mean: double (nullable = true)\n",
      " |-- prod_second_orders: integer (nullable = true)\n",
      " |-- prod_first_orders: integer (nullable = true)\n",
      " |-- prod_orders: integer (nullable = true)\n",
      " |-- reordered_reorders: integer (nullable = true)\n",
      " |-- max_order_number: integer (nullable = true)\n",
      " |-- days_since_prior_order_mean: double (nullable = true)\n",
      " |-- days_since_prior_order_sum: integer (nullable = true)\n",
      " |-- product_id_count: integer (nullable = true)\n",
      " |-- product_id_count_distinct: integer (nullable = true)\n",
      " |-- user_reorder_ratio: double (nullable = true)\n",
      "\n",
      "Count:  13307953"
     ]
    }
   ],
   "source": [
    "# Join the data frames \n",
    "joinDF = ((up_features.join(prd_feature, \"product_id\")).join(user_features_1, \"user_id\")).join(user_features_2, \"user_id\")\n",
    "joinDF.show(10)\n",
    "joinDF.printSchema()\n",
    "print(\"Count: \", joinDF.count())"
   ]
  },
  {
   "cell_type": "code",
   "execution_count": 71,
   "metadata": {},
   "outputs": [
    {
     "data": {
      "application/vnd.jupyter.widget-view+json": {
       "model_id": "e984123277bd420585b8861011e0cce2",
       "version_major": 2,
       "version_minor": 0
      },
      "text/plain": [
       "FloatProgress(value=0.0, bar_style='info', description='Progress:', layout=Layout(height='25px', width='50%'),…"
      ]
     },
     "metadata": {},
     "output_type": "display_data"
    }
   ],
   "source": [
    "# Write out a single file to S3 directory \"finaltable\"\n",
    "singleDF = joinDF.repartition(1)\n",
    "singleDF.write.csv(\"s3://imba-kevin0019/features/features_join\", header = \"true\")"
   ]
  },
  {
   "cell_type": "markdown",
   "metadata": {},
   "source": [
    "# Method 2"
   ]
  },
  {
   "cell_type": "code",
   "execution_count": 72,
   "metadata": {},
   "outputs": [
    {
     "data": {
      "application/vnd.jupyter.widget-view+json": {
       "model_id": "6fa761e9cf0c4ccab7259231eeb747fe",
       "version_major": 2,
       "version_minor": 0
      },
      "text/plain": [
       "FloatProgress(value=0.0, bar_style='info', description='Progress:', layout=Layout(height='25px', width='50%'),…"
      ]
     },
     "metadata": {},
     "output_type": "display_data"
    }
   ],
   "source": [
    "import sys\n",
    "from awsglue.transforms import *\n",
    "from awsglue.utils import getResolvedOptions\n",
    "from pyspark.context import SparkContext\n",
    "from awsglue.context import GlueContext\n",
    "from awsglue.job import Job\n",
    "\n",
    "glueContext = GlueContext(SparkContext.getOrCreate())"
   ]
  },
  {
   "cell_type": "code",
   "execution_count": 73,
   "metadata": {},
   "outputs": [
    {
     "data": {
      "application/vnd.jupyter.widget-view+json": {
       "model_id": "9cfc47f83a214a388cb99ff0487fe115",
       "version_major": 2,
       "version_minor": 0
      },
      "text/plain": [
       "FloatProgress(value=0.0, bar_style='info', description='Progress:', layout=Layout(height='25px', width='50%'),…"
      ]
     },
     "metadata": {},
     "output_type": "display_data"
    },
    {
     "name": "stdout",
     "output_type": "stream",
     "text": [
      "root\n",
      "|-- product_id: long\n",
      "|-- prod_second_orders: int\n",
      "|-- prod_first_orders: int\n",
      "|-- prod_orders: int\n",
      "|-- reordered_reorders: int\n",
      "\n",
      "Count:  49677"
     ]
    }
   ],
   "source": [
    "prd_feature = glueContext.create_dynamic_frame_from_options(connection_type = \"parquet\", connection_options = {\"path\": [\"s3://imba-kevin0019/features/prd_feature_db/\"]})\n",
    "prd_feature.printSchema()\n",
    "print(\"Count: \", prd_feature.count())"
   ]
  },
  {
   "cell_type": "code",
   "execution_count": 77,
   "metadata": {},
   "outputs": [
    {
     "data": {
      "application/vnd.jupyter.widget-view+json": {
       "model_id": "ccd3dc6b4a4d42d5acacf8a3dd6e3dc7",
       "version_major": 2,
       "version_minor": 0
      },
      "text/plain": [
       "FloatProgress(value=0.0, bar_style='info', description='Progress:', layout=Layout(height='25px', width='50%'),…"
      ]
     },
     "metadata": {},
     "output_type": "display_data"
    },
    {
     "name": "stdout",
     "output_type": "stream",
     "text": [
      "root\n",
      "|-- user_id: long\n",
      "|-- product_id: long\n",
      "|-- order_number_max: long\n",
      "|-- order_number_min: long\n",
      "|-- number_ordered: long\n",
      "|-- add_to_cart_order_mean: double\n",
      "\n",
      "Count:  13307953"
     ]
    }
   ],
   "source": [
    "up_features = glueContext.create_dynamic_frame_from_options(connection_type = \"parquet\", connection_options = {\"path\": [\"s3://imba-kevin0019/features/up_feature_db\"]})\n",
    "up_features.printSchema()\n",
    "print(\"Count: \", up_features.count())"
   ]
  },
  {
   "cell_type": "code",
   "execution_count": 79,
   "metadata": {},
   "outputs": [
    {
     "data": {
      "application/vnd.jupyter.widget-view+json": {
       "model_id": "8b68b85724694bad99f17df06646d952",
       "version_major": 2,
       "version_minor": 0
      },
      "text/plain": [
       "FloatProgress(value=0.0, bar_style='info', description='Progress:', layout=Layout(height='25px', width='50%'),…"
      ]
     },
     "metadata": {},
     "output_type": "display_data"
    },
    {
     "name": "stdout",
     "output_type": "stream",
     "text": [
      "root\n",
      "|-- user_id: int\n",
      "|-- max_order_number: int\n",
      "|-- days_since_prior_order_mean: double\n",
      "|-- days_since_prior_order_sum: int\n",
      "\n",
      "Count:  206209"
     ]
    }
   ],
   "source": [
    "user_features_1 = glueContext.create_dynamic_frame_from_options(connection_type = \"parquet\", connection_options = {\"path\": [\"s3://imba-kevin0019/features/user_feature_1_db/\"]})\n",
    "user_features_1.printSchema()\n",
    "print(\"Count: \", user_features_1.count())"
   ]
  },
  {
   "cell_type": "code",
   "execution_count": 80,
   "metadata": {},
   "outputs": [
    {
     "data": {
      "application/vnd.jupyter.widget-view+json": {
       "model_id": "44d94052758f438e8df88ab488fd19d8",
       "version_major": 2,
       "version_minor": 0
      },
      "text/plain": [
       "FloatProgress(value=0.0, bar_style='info', description='Progress:', layout=Layout(height='25px', width='50%'),…"
      ]
     },
     "metadata": {},
     "output_type": "display_data"
    },
    {
     "name": "stdout",
     "output_type": "stream",
     "text": [
      "root\n",
      "|-- user_id: long\n",
      "|-- product_id_count: int\n",
      "|-- product_id_count_distinct: int\n",
      "|-- user_reorder_ratio: double\n",
      "\n",
      "Count:  206209"
     ]
    }
   ],
   "source": [
    "user_features_2 = glueContext.create_dynamic_frame_from_options(connection_type = \"parquet\", connection_options = {\"path\": [\"s3://imba-kevin0019/features/user_feature_2_db/\"]})\n",
    "user_features_2.printSchema()\n",
    "print(\"Count: \", user_features_2.count())"
   ]
  },
  {
   "cell_type": "code",
   "execution_count": 81,
   "metadata": {},
   "outputs": [
    {
     "data": {
      "application/vnd.jupyter.widget-view+json": {
       "model_id": "39d9fe4b9931484b9ae11cf2ab793363",
       "version_major": 2,
       "version_minor": 0
      },
      "text/plain": [
       "FloatProgress(value=0.0, bar_style='info', description='Progress:', layout=Layout(height='25px', width='50%'),…"
      ]
     },
     "metadata": {},
     "output_type": "display_data"
    }
   ],
   "source": [
    "# join user features together\n",
    "users = Join.apply(user_features_1.rename_field('user_id','user_id1'), user_features_2, 'user_id1', 'user_id').drop_fields(['user_id1'])"
   ]
  },
  {
   "cell_type": "code",
   "execution_count": 83,
   "metadata": {},
   "outputs": [
    {
     "data": {
      "application/vnd.jupyter.widget-view+json": {
       "model_id": "87973ecea9754aa986a5dec2809b0435",
       "version_major": 2,
       "version_minor": 0
      },
      "text/plain": [
       "FloatProgress(value=0.0, bar_style='info', description='Progress:', layout=Layout(height='25px', width='50%'),…"
      ]
     },
     "metadata": {},
     "output_type": "display_data"
    }
   ],
   "source": [
    "# join everything together\n",
    "df = Join.apply(Join.apply(up_features, \n",
    "                  users.rename_field('user_id','user_id1'), \n",
    "                  'user_id','user_id1').drop_fields(['user_id1']),\n",
    "      prd_feature.rename_field('product_id','product_id1'), \n",
    "      'product_id','product_id1').drop_fields(['product_id1'])"
   ]
  },
  {
   "cell_type": "code",
   "execution_count": null,
   "metadata": {},
   "outputs": [],
   "source": [
    "# convert glue dynamic dataframe to spark dataframe\n",
    "df_spark = df.toDF()\n",
    "df_spark.repartition(1).write.mode('overwrite').format('csv').save(\"s3://imba-kevin0019/features/features_join\", header = 'true')"
   ]
  },
  {
   "cell_type": "code",
   "execution_count": 87,
   "metadata": {},
   "outputs": [
    {
     "data": {
      "application/vnd.jupyter.widget-view+json": {
       "model_id": "ef38647dc8b44d368c38f33f123ac3c4",
       "version_major": 2,
       "version_minor": 0
      },
      "text/plain": [
       "FloatProgress(value=0.0, bar_style='info', description='Progress:', layout=Layout(height='25px', width='50%'),…"
      ]
     },
     "metadata": {},
     "output_type": "display_data"
    },
    {
     "name": "stdout",
     "output_type": "stream",
     "text": [
      "+-------------------------+----------+----------------+--------------------------+----------------+------------------+----------------+----------------------+--------------+------------------+-------------------+-----------+---------------------------+-----------------+-------+----------------+\n",
      "|product_id_count_distinct|product_id|product_id_count|days_since_prior_order_sum|max_order_number|reordered_reorders|order_number_min|add_to_cart_order_mean|number_ordered|prod_second_orders| user_reorder_ratio|prod_orders|days_since_prior_order_mean|prod_first_orders|user_id|order_number_max|\n",
      "+-------------------------+----------+----------------+--------------------------+----------------+------------------+----------------+----------------------+--------------+------------------+-------------------+-----------+---------------------------+-----------------+-------+----------------+\n",
      "|                      177|     37217|             313|                       262|              15|                14|               1|                  13.0|             1|                 6| 0.6098654708520179|         38|         18.714285714285715|               24| 150696|               1|\n",
      "|                      301|     37217|             663|                       335|              58|                14|               1|                   8.0|             3|                 6| 1.5146443514644352|         38|           5.87719298245614|               24| 190593|              21|\n",
      "|                      121|     37217|             174|                       160|              10|                14|               1|                  11.0|             1|                 6| 0.5145631067961165|         38|          17.77777777777778|               24| 107612|               1|\n",
      "|                      231|     37217|             621|                       335|              59|                14|               5|                  17.0|             1|                 6| 1.6738197424892705|         38|          5.775862068965517|               24|  66463|               5|\n",
      "|                       17|     37217|              21|                        78|               6|                14|               2|                   3.0|             1|                 6|0.26666666666666666|         38|                       15.6|               24| 132681|               2|\n",
      "|                       69|     37217|             154|                       358|              21|                14|               3|                   7.0|             1|                 6|               0.68|         38|                       17.9|               24|  73166|               3|\n",
      "|                       75|     37217|             118|                       284|              16|                14|               4|     5.333333333333333|             3|                 6|0.48314606741573035|         38|         18.933333333333334|               24| 160638|              10|\n",
      "|                      184|     37217|             425|                       342|              52|                14|               5|                   4.6|             5|                 6| 1.4345238095238095|         38|          6.705882352941177|               24|  59990|              24|\n",
      "|                      186|     37217|             388|                       298|              48|                14|              21|                   4.0|             1|                 6| 0.9805825242718447|         38|          6.340425531914893|               24| 141389|              21|\n",
      "|                      123|     37217|             271|                       337|              19|                14|               2|                   4.0|             1|                 6| 0.7014218009478673|         38|          18.72222222222222|               24|  57369|               2|\n",
      "+-------------------------+----------+----------------+--------------------------+----------------+------------------+----------------+----------------------+--------------+------------------+-------------------+-----------+---------------------------+-----------------+-------+----------------+\n",
      "only showing top 10 rows"
     ]
    }
   ],
   "source": [
    "df_spark = df.toDF()\n",
    "df_spark.show(10)"
   ]
  },
  {
   "cell_type": "code",
   "execution_count": null,
   "metadata": {},
   "outputs": [],
   "source": []
  },
  {
   "cell_type": "code",
   "execution_count": null,
   "metadata": {},
   "outputs": [],
   "source": []
  },
  {
   "cell_type": "code",
   "execution_count": null,
   "metadata": {},
   "outputs": [],
   "source": []
  },
  {
   "cell_type": "code",
   "execution_count": null,
   "metadata": {},
   "outputs": [],
   "source": []
  },
  {
   "cell_type": "code",
   "execution_count": null,
   "metadata": {},
   "outputs": [],
   "source": []
  },
  {
   "cell_type": "code",
   "execution_count": null,
   "metadata": {},
   "outputs": [],
   "source": []
  },
  {
   "cell_type": "code",
   "execution_count": null,
   "metadata": {},
   "outputs": [],
   "source": []
  },
  {
   "cell_type": "code",
   "execution_count": null,
   "metadata": {},
   "outputs": [],
   "source": []
  }
 ],
 "metadata": {
  "kernelspec": {
   "display_name": "Sparkmagic (PySpark)",
   "language": "python",
   "name": "pysparkkernel"
  },
  "language_info": {
   "codemirror_mode": {
    "name": "python",
    "version": 3
   },
   "file_extension": ".py",
   "mimetype": "text/x-python",
   "name": "pyspark",
   "pygments_lexer": "python3"
  }
 },
 "nbformat": 4,
 "nbformat_minor": 4
}
